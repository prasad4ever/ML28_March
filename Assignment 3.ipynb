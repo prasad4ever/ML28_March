{
 "cells": [
  {
   "cell_type": "markdown",
   "metadata": {},
   "source": [
    "# 1.1 Write a Python Program to implement your own myreduce() function which works exactly like Python's built-in function reduce()"
   ]
  },
  {
   "cell_type": "code",
   "execution_count": 97,
   "metadata": {},
   "outputs": [
    {
     "name": "stdout",
     "output_type": "stream",
     "text": [
      "Sum ->  10\n",
      "Product->  24\n"
     ]
    }
   ],
   "source": [
    "def f_sum(x1, x2): \n",
    "    return x1 + x2\n",
    "\n",
    "def f_prod(x1,x2):\n",
    "    return x1*x2\n",
    "\n",
    "def my_reduce(func, seq):\n",
    "    first = seq[0]\n",
    "    for i in seq[1:]:\n",
    "        first = func(first,i)\n",
    "    return first\n",
    "\n",
    "print(\"Sum -> \" ,my_reduce(f_sum,[1, 2, 3, 4]))\n",
    "print(\"Product-> \",my_reduce(f_prod,[1,2,3,4]))\n"
   ]
  },
  {
   "cell_type": "code",
   "execution_count": null,
   "metadata": {},
   "outputs": [],
   "source": []
  },
  {
   "cell_type": "markdown",
   "metadata": {},
   "source": [
    "# 1.2 Write a Python program to implement your own myfilter() function which works exactly  like Python's built-in function filter()"
   ]
  },
  {
   "cell_type": "code",
   "execution_count": 142,
   "metadata": {},
   "outputs": [
    {
     "name": "stdout",
     "output_type": "stream",
     "text": [
      "even numbers ->  [20, 24, 2, 4, 6, 8]\n",
      "odd numbers ->  [21, 1, 3, 5, 7]\n"
     ]
    }
   ],
   "source": [
    "def f_even(j):\n",
    "    if j%2==0:\n",
    "        return(j)\n",
    "    \n",
    "def f_odd(j):\n",
    "    if j%2!=0:\n",
    "        return(j)\n",
    "    \n",
    "def my_filter(func, inp_list):\n",
    "    s=[]\n",
    "    s=[j for j in inp_list if func(j)!=None]\n",
    "    return(s)\n",
    "\n",
    "print(\"even numbers -> \" ,my_filter(f_even,[20,21,24,1, 2, 3, 4,5,6,7,8]))\n",
    "print(\"odd numbers -> \" ,my_filter(f_odd,[20,21,24,1, 2, 3, 4,5,6,7,8]))\n"
   ]
  },
  {
   "cell_type": "markdown",
   "metadata": {},
   "source": [
    "# 2. Implement List comprehensions to produce the following lists.\n",
    "# Write List comprehensions to produce the following Lists\n",
    "# ['A', 'C', 'A', 'D', 'G', 'I', ’L’, ‘ D’]\n",
    "# ['x', 'xx', 'xxx', 'xxxx', 'y', 'yy', 'yyy', 'yyyy', 'z', 'zz', 'zzz', 'zzzz']\n",
    "# ['x', 'y', 'z', 'xx', 'yy', 'zz', 'xxx', 'yyy', 'zzz', 'xxxx', 'yyyy', 'zzzz']\n",
    "# [[2], [3], [4], [3], [4], [5], [4], [5], [6]] [[2, 3, 4, 5], [3, 4, 5, 6],\n",
    "# [4, 5, 6, 7], [5, 6, 7, 8]]\n",
    "# [(1, 1), (2, 1), (3, 1), (1, 2), (2, 2), (3, 2), (1, 3), (2, 3), (3, 3)]"
   ]
  },
  {
   "cell_type": "code",
   "execution_count": 92,
   "metadata": {},
   "outputs": [
    {
     "name": "stdout",
     "output_type": "stream",
     "text": [
      "['A', 'C', 'A', 'D', 'G', 'I', 'L', 'D'] \n",
      "\n",
      "['x', 'xx', 'xxx', 'xxxx', 'y', 'yy', 'yyy', 'yyyy', 'z', 'zz', 'zzz', 'zzzz'] \n",
      "\n",
      "['x', 'y', 'z', 'xx', 'yy', 'zz', 'xxx', 'yyy', 'zzz', 'xxxx', 'yyyy', 'zzzz'] \n",
      "\n",
      "[[2], [3], [4], [3], [4], [5], [4], [5], [6]] [[2, 3, 4, 5], [3, 4, 5, 6], [4, 5, 6, 7], [5, 6, 7, 8]] \n",
      "\n",
      "[(1, 1), (2, 1), (3, 1), (1, 2), (2, 2), (3, 2), (1, 3), (2, 3), (3, 3)]\n"
     ]
    }
   ],
   "source": [
    "inp_char1=\"ACADGILD\"\n",
    "ls1=[c for c in inp_char1]\n",
    "print(ls1,'\\n')\n",
    "\n",
    "inp_char2=['x','y','z']\n",
    "ls2=[h*s for s in inp_char2 for h in range(1,5)]\n",
    "print(ls2,'\\n')\n",
    "\n",
    "ls3=[s*h for h in range(1,5) for s in inp_char2 ]\n",
    "print(ls3,'\\n')\n",
    "\n",
    "ls4=[[s+h] for h in range(1,4) for s in range(1,4)]\n",
    "\n",
    "ls5=[[h+s for h in range(1,5)] for s in range(1,5)]\n",
    "\n",
    "print(ls4,ls5,'\\n')\n",
    "\n",
    "ls6=[(s,h) for h in range(1,4) for s in range(1,4)]\n",
    "print(ls6)"
   ]
  }
 ],
 "metadata": {
  "kernelspec": {
   "display_name": "Python 3",
   "language": "python",
   "name": "python3"
  },
  "language_info": {
   "codemirror_mode": {
    "name": "ipython",
    "version": 3
   },
   "file_extension": ".py",
   "mimetype": "text/x-python",
   "name": "python",
   "nbconvert_exporter": "python",
   "pygments_lexer": "ipython3",
   "version": "3.6.5"
  }
 },
 "nbformat": 4,
 "nbformat_minor": 2
}
