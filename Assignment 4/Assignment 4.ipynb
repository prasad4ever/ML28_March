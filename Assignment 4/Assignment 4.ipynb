{
 "cells": [
  {
   "cell_type": "markdown",
   "metadata": {},
   "source": [
    "# 1.1 Write a Python Program(with class concepts) to find the area of the triangle using the below formula."
   ]
  },
  {
   "cell_type": "code",
   "execution_count": 63,
   "metadata": {},
   "outputs": [
    {
     "name": "stdout",
     "output_type": "stream",
     "text": [
      "Enter side  a in cms\n",
      "10\n",
      "Enter side  b in cms\n",
      "5\n",
      "Enter side  c in cms\n",
      "7\n",
      "16.25  sq cms\n"
     ]
    }
   ],
   "source": [
    "class Triangle():\n",
    "    def __init__(self):\n",
    "        print(\"Enter side \",\"a\", \"in cms\")\n",
    "        self.a = int(input())\n",
    "        print(\"Enter side \",\"b\", \"in cms\")\n",
    "        self.b= int(input())\n",
    "        print(\"Enter side \",\"c\", \"in cms\")\n",
    "        self.c=int(input())\n",
    "    \n",
    "class Area(Triangle):\n",
    "    def __init__(self):\n",
    "        Triangle.__init__(self)\n",
    "        \n",
    "    \n",
    "    def area(self):\n",
    "        s=(self.a+self.b+self.c)/2\n",
    "        a=(s*(s-self.a)*(s-self.b)*(s-self.c))**0.5\n",
    "        return round(a,2)\n",
    "\n",
    "\n",
    "area_res = Area()\n",
    "print(area_res.area(),\" sq cms\")"
   ]
  },
  {
   "cell_type": "markdown",
   "metadata": {},
   "source": [
    "# 1.2 Write a function filter_long_words() that takes a list of words and an integer n and returns the list of words that are longer than n."
   ]
  },
  {
   "cell_type": "code",
   "execution_count": 79,
   "metadata": {},
   "outputs": [
    {
     "name": "stdout",
     "output_type": "stream",
     "text": [
      "['abcd', 'ijklm', 'yhtr']\n",
      "['abcd', 'ijklm', 'yhtr']\n"
     ]
    }
   ],
   "source": [
    "                                        # Solution 1\n",
    "def filter_long_words(lst,n) :\n",
    "    res=[]\n",
    "    for i in lst:\n",
    "        if len(i)>3:\n",
    "            res.append(i)\n",
    "    return(res)\n",
    "    \n",
    "\n",
    "ls=[\"abcd\",\"efg\",\"ijklm\",\"yhtr\"]\n",
    "ls_res=filter_long_words(ls,3)\n",
    "print(ls_res)\n",
    "\n",
    "                                         # solution 2\n",
    "\n",
    "def len_lst(lst):\n",
    "    return list(filter(lambda x: len(x)>3, lst))\n",
    "\n",
    "lst=[\"abcd\",\"efg\",\"ijklm\",\"yhtr\"]\n",
    "print(len_lst(lst))"
   ]
  },
  {
   "cell_type": "markdown",
   "metadata": {},
   "source": [
    "# 2.1 Write a Python program using function concept that maps list of words into a list of integers representing the lengths of the corresponding words"
   ]
  },
  {
   "cell_type": "code",
   "execution_count": 80,
   "metadata": {},
   "outputs": [
    {
     "name": "stdout",
     "output_type": "stream",
     "text": [
      "[4, 3, 5, 4]\n"
     ]
    }
   ],
   "source": [
    "def len_lst(lst):\n",
    "    return list(map(lambda x: len(x), lst))\n",
    "\n",
    "lst=[\"abcd\",\"efg\",\"ijklm\",\"yhtr\"]\n",
    "print(len_lst(lst))"
   ]
  },
  {
   "cell_type": "markdown",
   "metadata": {},
   "source": [
    "# 2.2 Write a Python function which takes a character (i.e. a string of length 1) and returns True if it is a vowel, False otherwise."
   ]
  },
  {
   "cell_type": "code",
   "execution_count": 113,
   "metadata": {},
   "outputs": [
    {
     "name": "stdout",
     "output_type": "stream",
     "text": [
      "h\n",
      "False\n",
      "h\n",
      "False\n"
     ]
    }
   ],
   "source": [
    "                # solution 1\n",
    "def chk_vowel(c):\n",
    "    vowels=['a','e','i','o','u']\n",
    "    c=c.lower()\n",
    "    for x in vowels:\n",
    "        if c==x:\n",
    "            return True\n",
    "    return False\n",
    "    \n",
    "\n",
    "print(chk_vowel(input()))\n",
    "\n",
    "                                # solution 2\n",
    "def chk_vowel(c):\n",
    "    vowels=['a','e','i','o','u']\n",
    "    c=c.lower()\n",
    "    if c in vowels:\n",
    "        return True\n",
    "    return False\n",
    "print(chk_vowel(input()))"
   ]
  },
  {
   "cell_type": "code",
   "execution_count": 104,
   "metadata": {},
   "outputs": [
    {
     "name": "stdout",
     "output_type": "stream",
     "text": [
      "A\n",
      "True\n"
     ]
    }
   ],
   "source": []
  }
 ],
 "metadata": {
  "kernelspec": {
   "display_name": "Python 3",
   "language": "python",
   "name": "python3"
  },
  "language_info": {
   "codemirror_mode": {
    "name": "ipython",
    "version": 3
   },
   "file_extension": ".py",
   "mimetype": "text/x-python",
   "name": "python",
   "nbconvert_exporter": "python",
   "pygments_lexer": "ipython3",
   "version": "3.6.5"
  }
 },
 "nbformat": 4,
 "nbformat_minor": 2
}
