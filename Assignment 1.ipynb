{
 "cells": [
  {
   "cell_type": "markdown",
   "metadata": {},
   "source": [
    "# 1.  Write a program which will find all such numbers which are divisible by 7 but are not a multiple of 5, between 2000 and 3200 (both included). The numbers obtained should be printed in a comma-separated sequence on a single line."
   ]
  },
  {
   "cell_type": "code",
   "execution_count": 17,
   "metadata": {},
   "outputs": [
    {
     "name": "stdout",
     "output_type": "stream",
     "text": [
      "Solution 1 using for loop  \n",
      "\n",
      "2002,2009,2016,2023,2037,2044,2051,2058,2072,2079,2086,2093,2107,2114,2121,2128,2142,2149,2156,2163,2177,2184,2191,2198,2212,2219,2226,2233,2247,2254,2261,2268,2282,2289,2296,2303,2317,2324,2331,2338,2352,2359,2366,2373,2387,2394,2401,2408,2422,2429,2436,2443,2457,2464,2471,2478,2492,2499,2506,2513,2527,2534,2541,2548,2562,2569,2576,2583,2597,2604,2611,2618,2632,2639,2646,2653,2667,2674,2681,2688,2702,2709,2716,2723,2737,2744,2751,2758,2772,2779,2786,2793,2807,2814,2821,2828,2842,2849,2856,2863,2877,2884,2891,2898,2912,2919,2926,2933,2947,2954,2961,2968,2982,2989,2996,3003,3017,3024,3031,3038,3052,3059,3066,3073,3087,3094,3101,3108,3122,3129,3136,3143,3157,3164,3171,3178,3192,3199,\n",
      "\n",
      " Solution 2 using List compreshension \n",
      "\n",
      "[2002, 2009, 2016, 2023, 2037, 2044, 2051, 2058, 2072, 2079, 2086, 2093, 2107, 2114, 2121, 2128, 2142, 2149, 2156, 2163, 2177, 2184, 2191, 2198, 2212, 2219, 2226, 2233, 2247, 2254, 2261, 2268, 2282, 2289, 2296, 2303, 2317, 2324, 2331, 2338, 2352, 2359, 2366, 2373, 2387, 2394, 2401, 2408, 2422, 2429, 2436, 2443, 2457, 2464, 2471, 2478, 2492, 2499, 2506, 2513, 2527, 2534, 2541, 2548, 2562, 2569, 2576, 2583, 2597, 2604, 2611, 2618, 2632, 2639, 2646, 2653, 2667, 2674, 2681, 2688, 2702, 2709, 2716, 2723, 2737, 2744, 2751, 2758, 2772, 2779, 2786, 2793, 2807, 2814, 2821, 2828, 2842, 2849, 2856, 2863, 2877, 2884, 2891, 2898, 2912, 2919, 2926, 2933, 2947, 2954, 2961, 2968, 2982, 2989, 2996, 3003, 3017, 3024, 3031, 3038, 3052, 3059, 3066, 3073, 3087, 3094, 3101, 3108, 3122, 3129, 3136, 3143, 3157, 3164, 3171, 3178, 3192, 3199]\n"
     ]
    }
   ],
   "source": [
    "# Solution 1 using for loop. \n",
    "s1=[]\n",
    "print(\"Solution 1 using for loop \",'\\n')\n",
    "for i in range(2000,3201):\n",
    "    if i%7==0 and i%5!=0:\n",
    "        #s1.append(i)\n",
    "        print(i,end=\",\")\n",
    "\n",
    "\n",
    "\n",
    "# Solution  2using list / List comprehensions which can be solved in single line\n",
    "print(\"\\n\\n Solution 2 using List compreshension\",'\\n')\n",
    "Result_list = [j for j in range(2000,3201) if j % 7 == 0  if j % 5 != 0]\n",
    "print(Result_list)\n",
    "\n",
    "\n",
    "\n",
    "#print(*seven, sep=\",\",end=\".\") \n",
    "\n"
   ]
  },
  {
   "cell_type": "markdown",
   "metadata": {},
   "source": [
    "# 2. Write a Python program to accept the user's first and last name and then # getting them printed in  the the reverse order with a space between first name and last name."
   ]
  },
  {
   "cell_type": "code",
   "execution_count": 19,
   "metadata": {},
   "outputs": [
    {
     "name": "stdout",
     "output_type": "stream",
     "text": [
      "Solution1 \n",
      " Enter First and Last name\n",
      "abc def\n",
      "Reversed order of name-> fed cba\n",
      "Solution2\n",
      "\n",
      "Enter first name:\n",
      "abc\n",
      "Enter lastname:\n",
      "def\n",
      "Reversed Order-> fed cba\n"
     ]
    }
   ],
   "source": [
    "# Solution 1\n",
    "print(\"Solution1 \\n Enter First and Last name\")\n",
    "f_l_name=input()\n",
    "print(\"Reversed order of name->\",f_l_name[::-1])\n",
    "\n",
    "#Solution 2\n",
    "print(\"Solution2\\n\")\n",
    "print(\"Enter first name:\")\n",
    "f_name=input()\n",
    "print(\"Enter lastname:\")\n",
    "l_name=input()\n",
    "print(\"Reversed Order->\",l_name[::-1]+' '+f_name[::-1])"
   ]
  },
  {
   "cell_type": "markdown",
   "metadata": {},
   "source": [
    "# 3. Write a Python program to find the volume of a sphere with diameter 12 cm.  Formula: V=4/3 * π * r 3"
   ]
  },
  {
   "cell_type": "code",
   "execution_count": 20,
   "metadata": {},
   "outputs": [
    {
     "name": "stdout",
     "output_type": "stream",
     "text": [
      "Volume-> 904.7786842338603  cubic centemeters\n"
     ]
    }
   ],
   "source": [
    "import math as m\n",
    "# given diameter as 12 cms\n",
    "di=12\n",
    "# radius is half the diameter hence dividing with 2\n",
    "r=di/2\n",
    "vol= (4/3) * (m.pi) * (r**3)\n",
    "print(\"Volume->\",vol,\" cubic centemeters\")"
   ]
  }
 ],
 "metadata": {
  "kernelspec": {
   "display_name": "Python 3",
   "language": "python",
   "name": "python3"
  },
  "language_info": {
   "codemirror_mode": {
    "name": "ipython",
    "version": 3
   },
   "file_extension": ".py",
   "mimetype": "text/x-python",
   "name": "python",
   "nbconvert_exporter": "python",
   "pygments_lexer": "ipython3",
   "version": "3.6.5"
  }
 },
 "nbformat": 4,
 "nbformat_minor": 2
}
