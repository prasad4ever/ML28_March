{
 "cells": [
  {
   "cell_type": "markdown",
   "metadata": {},
   "source": [
    "# Write a function so that the columns of the output matrix are powers of the input vector. The order of the powers is determined by the increasing boolean argument. Specifically, when increasing is False, the i-th output column is the input vector raised element-wise to the power of N - i - 1.\n",
    "# HINT: Such a matrix with a geometric progression in each row is named for Alexandre- Theophile Vandermonde."
   ]
  },
  {
   "cell_type": "code",
   "execution_count": 2,
   "metadata": {},
   "outputs": [],
   "source": [
    "import numpy as np"
   ]
  },
  {
   "cell_type": "code",
   "execution_count": 38,
   "metadata": {},
   "outputs": [],
   "source": [
    "############ Citation reference from numpy docs -> https://numpy.org/doc/stable/reference/generated/numpy.vander.html\n",
    "\n",
    "def op_matrix(x,N,check):\n",
    "    if not check:\n",
    "        opt=np.column_stack([x**i for i in range(N)])\n",
    "    else:\n",
    "        opt=np.column_stack([x**(N-1-i) for i in range(N)])\n",
    "    return(opt)"
   ]
  },
  {
   "cell_type": "code",
   "execution_count": 39,
   "metadata": {},
   "outputs": [
    {
     "name": "stdout",
     "output_type": "stream",
     "text": [
      "Enter number of elements  of input vectors\n",
      "3\n",
      "1\n",
      "2\n",
      "3\n",
      "Input Vector-> [1 2 3]\n",
      "Enter number of columns to be in Matrix\n",
      "3\n",
      "Increasing order:\n",
      "\n",
      " [[1 1 1]\n",
      " [1 2 4]\n",
      " [1 3 9]] \n",
      "\n",
      "Decreasing order :\n",
      "\n",
      " [[1 1 1]\n",
      " [4 2 1]\n",
      " [9 3 1]] \n",
      "\n"
     ]
    }
   ],
   "source": [
    "inp_list=[]\n",
    "print(\"Enter number of elements  of input vectors\")\n",
    "N=int(input())\n",
    "for i in range(N):\n",
    "    inp=int(input())\n",
    "    inp_list.append(inp)\n",
    "\n",
    "######     converting to nd Array \n",
    "inp_vec=np.asarray(inp_list)\n",
    "print(\"Input Vector->\",inp_vec)\n",
    "\n",
    "print(\"Enter number of columns to be in Matrix\")\n",
    "col=int(input())\n",
    "\n",
    "op_matrix_inc = op_matrix(inp_vec,col,False)\n",
    "op_matrix_dec = op_matrix(inp_vec,col,True)\n",
    "\n",
    "print(\"Increasing order:\\n\\n\",op_matrix_inc,\"\\n\")\n",
    "print(\"Decreasing order :\\n\\n\",op_matrix_dec,\"\\n\")"
   ]
  },
  {
   "cell_type": "markdown",
   "metadata": {},
   "source": [
    "# Write a function to find moving average in an array over a window:\n",
    "# Test it over [3, 5, 7, 2, 8, 10, 11, 65, 72, 81, 99, 100, 150] and window of 3.\n",
    "\n"
   ]
  },
  {
   "cell_type": "code",
   "execution_count": 78,
   "metadata": {},
   "outputs": [
    {
     "name": "stdout",
     "output_type": "stream",
     "text": [
      "[  5.           4.66666667   5.66666667   6.66666667   9.66666667\n",
      "  28.66666667  49.33333333  72.66666667  84.          93.33333333\n",
      " 116.33333333]\n"
     ]
    }
   ],
   "source": [
    "# Input array in form of numpy array\n",
    "x = np.array([3, 5, 7, 2, 8, 10, 11, 65, 72, 81, 99, 100, 150])\n",
    "# defiing a list to store result of moving averages\n",
    "res_avg=list()\n",
    "k=3\n",
    "\n",
    "op_len=x.size\n",
    "\n",
    "# defining two points : first is pointing to first element in window and last will be pointing to end of the element in window.\n",
    "# defining a window variable which takes a slice of input array starting from pointer \"first\" to \"last\" pointer\n",
    "# Everytime loop variable increase the step size increases and selects next three times at a time.\n",
    "# Window is a numpy array and mean is predefined function in numpy and it gives mean of that window.\n",
    "# storing each moving average in res_avg list\n",
    "# finally converting list to numpy array and printed\n",
    "for first in range(op_len):\n",
    "    last=first+k\n",
    "    if last>len(x):\n",
    "        break\n",
    "    window=np.take(x,range(first,last))\n",
    "    res_avg.append(window.mean())\n",
    "    \n",
    "\n",
    "y=np.asarray(res_avg)\n",
    "print(y)"
   ]
  },
  {
   "cell_type": "code",
   "execution_count": null,
   "metadata": {},
   "outputs": [],
   "source": []
  }
 ],
 "metadata": {
  "kernelspec": {
   "display_name": "Python 3",
   "language": "python",
   "name": "python3"
  },
  "language_info": {
   "codemirror_mode": {
    "name": "ipython",
    "version": 3
   },
   "file_extension": ".py",
   "mimetype": "text/x-python",
   "name": "python",
   "nbconvert_exporter": "python",
   "pygments_lexer": "ipython3",
   "version": "3.6.5"
  }
 },
 "nbformat": 4,
 "nbformat_minor": 2
}
